{
 "cells": [
  {
   "cell_type": "code",
   "execution_count": 116,
   "metadata": {},
   "outputs": [],
   "source": []
  },
  {
   "cell_type": "code",
   "execution_count": 119,
   "metadata": {},
   "outputs": [
    {
     "data": {
      "text/plain": [
       "array([[ 0,  1,  2,  3],\n",
       "       [ 4,  5,  6,  7],\n",
       "       [ 8,  9, 10, 11],\n",
       "       [12, 13, 14, 15]])"
      ]
     },
     "execution_count": 119,
     "metadata": {},
     "output_type": "execute_result"
    }
   ],
   "source": []
  },
  {
   "cell_type": "code",
   "execution_count": 124,
   "metadata": {},
   "outputs": [],
   "source": [
    "x = [8,13,6,3]\n",
    "a[3] = x"
   ]
  },
  {
   "cell_type": "code",
   "execution_count": 149,
   "metadata": {},
   "outputs": [
    {
     "data": {
      "text/plain": [
       "array([[12,  1, 10,  2],\n",
       "       [ 7, 11,  4, 14],\n",
       "       [ 5,  0,  9, 15],\n",
       "       [ 8, 13,  6,  3]])"
      ]
     },
     "execution_count": 149,
     "metadata": {},
     "output_type": "execute_result"
    }
   ],
   "source": []
  },
  {
   "cell_type": "code",
   "execution_count": 118,
   "metadata": {},
   "outputs": [
    {
     "data": {
      "text/plain": [
       "[12, 1, 10, 2, 7, 11, 4, 14, 5, 0, 9, 15, 8, 13, 6, 3]"
      ]
     },
     "execution_count": 118,
     "metadata": {},
     "output_type": "execute_result"
    }
   ],
   "source": [
    "b"
   ]
  },
  {
   "cell_type": "code",
   "execution_count": 113,
   "metadata": {},
   "outputs": [],
   "source": [
    "c = a"
   ]
  },
  {
   "cell_type": "markdown",
   "metadata": {},
   "source": []
  },
  {
   "cell_type": "code",
   "execution_count": 126,
   "metadata": {},
   "outputs": [],
   "source": []
  },
  {
   "cell_type": "code",
   "execution_count": 127,
   "metadata": {},
   "outputs": [
    {
     "data": {
      "text/plain": [
       "array([12,  1, 10,  2,  7, 11,  4, 14,  5,  0,  9, 15,  8, 13,  6,  3])"
      ]
     },
     "execution_count": 127,
     "metadata": {},
     "output_type": "execute_result"
    }
   ],
   "source": [
    "b"
   ]
  },
  {
   "cell_type": "code",
   "execution_count": 152,
   "metadata": {},
   "outputs": [],
   "source": []
  },
  {
   "cell_type": "code",
   "execution_count": 163,
   "metadata": {},
   "outputs": [
    {
     "name": "stdout",
     "output_type": "stream",
     "text": [
      "Can't be solve\n"
     ]
    }
   ],
   "source": [
    "import numpy as np\n",
    "\n",
    "def can_be_solve(a):\n",
    "    \n",
    "    t_invers = total_invers(a)   # Calling to get inversions\n",
    "    \n",
    "    blank = np.where(a == 0)    # Finding blank\n",
    "    blank = blank[0]            # Blank row\n",
    "    blank += 1                  # adding to start row from 1 not 0\n",
    "    \n",
    "    if len(b) % 2 != 0 and t_invers % 2 == 0:\n",
    "        print(\"1: Solvable with total inversions : \", t_invers)\n",
    "        return\n",
    "    if len(b) % 2 == 0 and blank % 2 != 0  and t_invers % 2 != 0:# blank from bottom is odd but from top it is even\n",
    "        print(\"2: Solvable with total inversions : \", t_invers)\n",
    "        return\n",
    "    if len(b) % 2 == 0 and blank % 2 == 0 and t_invers % 2 == 0:# blank from bottom is even but from top it is odd\n",
    "        print(\"3: Solvable with total inversions : \", t_invers)\n",
    "        return\n",
    "    else:\n",
    "        print(\"Can't be solve\")\n",
    "        return\n",
    "        \n",
    "def total_invers(a):\n",
    "    b = a.ravel()    # flating the matrix\n",
    "    c = list(b)      # list to get indexes\n",
    "    invers = 0       \n",
    "#     l_invers = []\n",
    "    t_invers = 0\n",
    "    for i in c:      \n",
    "        invers = 0\n",
    "        j = i\n",
    "        let = b[c.index(j):]    # slicing to j index\n",
    "        for j in let:           # avoid blank value\n",
    "            if(j == 0):\n",
    "                continue\n",
    "            if(i > j):\n",
    "                invers += 1\n",
    "#         l_invers.append(invers)\n",
    "        t_invers += invers\n",
    "    return t_invers\n",
    "\n",
    "a = np.array([[1, 2, 3, 4], \n",
    "                    [5, 6, 7, 8], \n",
    "                    [9, 10, 11, 15], \n",
    "                    [13, 14, 12, 0] \n",
    "             ])\n",
    "\n",
    "can_be_solve(a)"
   ]
  },
  {
   "cell_type": "code",
   "execution_count": 101,
   "metadata": {},
   "outputs": [
    {
     "data": {
      "text/plain": [
       "16"
      ]
     },
     "execution_count": 101,
     "metadata": {},
     "output_type": "execute_result"
    }
   ],
   "source": []
  },
  {
   "cell_type": "code",
   "execution_count": 129,
   "metadata": {},
   "outputs": [
    {
     "name": "stdout",
     "output_type": "stream",
     "text": [
      "49\n"
     ]
    }
   ],
   "source": [
    "    "
   ]
  },
  {
   "cell_type": "code",
   "execution_count": 147,
   "metadata": {},
   "outputs": [
    {
     "data": {
      "text/plain": [
       "array([3])"
      ]
     },
     "execution_count": 147,
     "metadata": {},
     "output_type": "execute_result"
    }
   ],
   "source": []
  },
  {
   "cell_type": "code",
   "execution_count": 148,
   "metadata": {},
   "outputs": [
    {
     "name": "stdout",
     "output_type": "stream",
     "text": [
      "yes 2 invers == odd\n"
     ]
    }
   ],
   "source": [
    "\n"
   ]
  },
  {
   "cell_type": "code",
   "execution_count": null,
   "metadata": {},
   "outputs": [],
   "source": []
  },
  {
   "cell_type": "code",
   "execution_count": 144,
   "metadata": {},
   "outputs": [],
   "source": []
  },
  {
   "cell_type": "code",
   "execution_count": 145,
   "metadata": {},
   "outputs": [
    {
     "data": {
      "text/plain": [
       "array([2])"
      ]
     },
     "execution_count": 145,
     "metadata": {},
     "output_type": "execute_result"
    }
   ],
   "source": []
  },
  {
   "cell_type": "code",
   "execution_count": 146,
   "metadata": {},
   "outputs": [
    {
     "data": {
      "text/plain": [
       "16"
      ]
     },
     "execution_count": 146,
     "metadata": {},
     "output_type": "execute_result"
    }
   ],
   "source": [
    "len(b)"
   ]
  },
  {
   "cell_type": "code",
   "execution_count": null,
   "metadata": {},
   "outputs": [],
   "source": []
  }
 ],
 "metadata": {
  "kernelspec": {
   "display_name": "Python 3",
   "language": "python",
   "name": "python3"
  },
  "language_info": {
   "codemirror_mode": {
    "name": "ipython",
    "version": 3
   },
   "file_extension": ".py",
   "mimetype": "text/x-python",
   "name": "python",
   "nbconvert_exporter": "python",
   "pygments_lexer": "ipython3",
   "version": "3.6.9"
  }
 },
 "nbformat": 4,
 "nbformat_minor": 2
}
