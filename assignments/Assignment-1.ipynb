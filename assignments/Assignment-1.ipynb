{
 "cells": [
  {
   "cell_type": "code",
   "execution_count": 152,
   "metadata": {},
   "outputs": [],
   "source": []
  },
  {
   "cell_type": "code",
   "execution_count": 163,
   "metadata": {},
   "outputs": [
    {
     "name": "stdout",
     "output_type": "stream",
     "text": [
      "Can't be solve\n"
     ]
    }
   ],
   "source": [
    "import numpy as np\n",
    "\n",
    "def can_be_solve(a):\n",
    "    \n",
    "    t_invers = total_invers(a)   # Calling to get inversions\n",
    "    \n",
    "    blank = np.where(a == 0)    # Finding blank\n",
    "    blank = blank[0]            # Blank row\n",
    "    blank += 1                  # adding to start row from 1 not 0\n",
    "    \n",
    "    if len(b) % 2 != 0 and t_invers % 2 == 0:\n",
    "        print(\"1: Solvable with total inversions : \", t_invers)\n",
    "        return\n",
    "    if len(b) % 2 == 0 and blank % 2 != 0  and t_invers % 2 != 0:# blank from bottom is odd but from top it is even\n",
    "        print(\"2: Solvable with total inversions : \", t_invers)\n",
    "        return\n",
    "    if len(b) % 2 == 0 and blank % 2 == 0 and t_invers % 2 == 0:# blank from bottom is even but from top it is odd\n",
    "        print(\"3: Solvable with total inversions : \", t_invers)\n",
    "        return\n",
    "    else:\n",
    "        print(\"Can't be solve\")\n",
    "        return\n",
    "        \n",
    "def total_invers(a):\n",
    "    b = a.ravel()    # flating the matrix\n",
    "    c = list(b)      # list to get indexes\n",
    "    invers = 0       \n",
    "#     l_invers = []\n",
    "    t_invers = 0\n",
    "    for i in c:      \n",
    "        invers = 0\n",
    "        j = i\n",
    "        let = b[c.index(j):]    # slicing to j index\n",
    "        for j in let:           # avoid blank value\n",
    "            if(j == 0):\n",
    "                continue\n",
    "            if(i > j):\n",
    "                invers += 1\n",
    "#         l_invers.append(invers)\n",
    "        t_invers += invers\n",
    "    return t_invers\n",
    "\n",
    "a = np.array([[1, 2, 3, 4], \n",
    "                    [5, 6, 7, 8], \n",
    "                    [9, 10, 11, 15], \n",
    "                    [13, 14, 12, 0] \n",
    "             ])\n",
    "\n",
    "can_be_solve(a)"
   ]
  },
  {
   "cell_type": "code",
   "execution_count": 101,
   "metadata": {},
   "outputs": [
    {
     "data": {
      "text/plain": [
       "16"
      ]
     },
     "execution_count": 101,
     "metadata": {},
     "output_type": "execute_result"
    }
   ],
   "source": []
  }
 ],
 "metadata": {
  "kernelspec": {
   "display_name": "Python 3",
   "language": "python",
   "name": "python3"
  },
  "language_info": {
   "codemirror_mode": {
    "name": "ipython",
    "version": 3
   },
   "file_extension": ".py",
   "mimetype": "text/x-python",
   "name": "python",
   "nbconvert_exporter": "python",
   "pygments_lexer": "ipython3",
   "version": "3.6.9"
  }
 },
 "nbformat": 4,
 "nbformat_minor": 2
}
